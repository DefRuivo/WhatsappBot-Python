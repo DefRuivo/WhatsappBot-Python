{
 "cells": [
  {
   "cell_type": "code",
   "execution_count": 200,
   "id": "approximate-ferry",
   "metadata": {},
   "outputs": [
    {
     "name": "stdout",
     "output_type": "stream",
     "text": [
      "Requirement already satisfied: selenium in c:\\users\\guilherme\\outros_repositorios\\botwhatsapp\\venv\\lib\\site-packages (3.141.0)\n",
      "Requirement already satisfied: urllib3 in c:\\users\\guilherme\\outros_repositorios\\botwhatsapp\\venv\\lib\\site-packages (from selenium) (1.26.3)\n"
     ]
    },
    {
     "name": "stderr",
     "output_type": "stream",
     "text": [
      "WARNING: You are using pip version 20.2.3; however, version 21.0.1 is available.\n",
      "You should consider upgrading via the 'c:\\users\\guilherme\\outros_repositorios\\botwhatsapp\\venv\\scripts\\python.exe -m pip install --upgrade pip' command.\n"
     ]
    },
    {
     "name": "stdout",
     "output_type": "stream",
     "text": [
      "Requirement already satisfied: pandas in c:\\users\\guilherme\\outros_repositorios\\botwhatsapp\\venv\\lib\\site-packages (1.2.2)\n",
      "Requirement already satisfied: pytz>=2017.3 in c:\\users\\guilherme\\outros_repositorios\\botwhatsapp\\venv\\lib\\site-packages (from pandas) (2021.1)\n",
      "Requirement already satisfied: numpy>=1.16.5 in c:\\users\\guilherme\\outros_repositorios\\botwhatsapp\\venv\\lib\\site-packages (from pandas) (1.20.1)\n",
      "Requirement already satisfied: python-dateutil>=2.7.3 in c:\\users\\guilherme\\outros_repositorios\\botwhatsapp\\venv\\lib\\site-packages (from pandas) (2.8.1)\n",
      "Requirement already satisfied: six>=1.5 in c:\\users\\guilherme\\outros_repositorios\\botwhatsapp\\venv\\lib\\site-packages (from python-dateutil>=2.7.3->pandas) (1.15.0)\n"
     ]
    },
    {
     "name": "stderr",
     "output_type": "stream",
     "text": [
      "WARNING: You are using pip version 20.2.3; however, version 21.0.1 is available.\n",
      "You should consider upgrading via the 'c:\\users\\guilherme\\outros_repositorios\\botwhatsapp\\venv\\scripts\\python.exe -m pip install --upgrade pip' command.\n"
     ]
    }
   ],
   "source": [
    "!pip install selenium\n",
    "!pip install pandas"
   ]
  },
  {
   "cell_type": "code",
   "execution_count": 201,
   "id": "ambient-booking",
   "metadata": {},
   "outputs": [],
   "source": [
    "import time\n",
    "import os\n",
    "from selenium import webdriver\n",
    "from selenium.webdriver.common.by import By\n",
    "from selenium.webdriver.support.ui import WebDriverWait\n",
    "from selenium.webdriver.support import expected_conditions as EC\n",
    "from selenium.webdriver.common.keys import Keys\n",
    "from selenium.common.exceptions import TimeoutException\n",
    "from selenium.common.exceptions import NoSuchElementException\n",
    "import pandas"
   ]
  },
  {
   "cell_type": "code",
   "execution_count": 202,
   "id": "eastern-second",
   "metadata": {},
   "outputs": [],
   "source": [
    "class Bot():\n",
    "    \n",
    "    def __init__(self):\n",
    "        \n",
    "        # Inicia o Browser indo diretamente para o site do Whatsapp, \n",
    "        # aguarda a resposta do QR Code por 60 segundos \n",
    "        # ou até encontrar a barra de pesquisa\n",
    "        \n",
    "        chrome_options = webdriver.ChromeOptions()\n",
    "        self.wd = webdriver.Chrome(executable_path=r'./chromedriver.exe', \n",
    "                                   options=chrome_options)\n",
    "        \n",
    "        self.wd.get(\"https://web.whatsapp.com/\")\n",
    "        WebDriverWait(self.wd, 60).until(EC.element_to_be_clickable((By.ID, \n",
    "                                                                     'side')))\n",
    "        \n",
    "        try:\n",
    "            \n",
    "            # Inicia classe que busca um arquivo excel e com \n",
    "            # uma função que gera um dicionário com \n",
    "            # os dois parametros passados\n",
    "            \n",
    "            self.contatos = self.PData().ache_contatos(\"Nome\", \"Celular\")\n",
    "            print(self.contatos)\n",
    "            \n",
    "        except:\n",
    "            print('Algo de errado com a planilha!')\n",
    "    \n",
    "    \n",
    "\n",
    "    def texto_mensagem(self):\n",
    "        \n",
    "        # Função recebe um dicionário com nome e telefone \n",
    "        # que retorna a mensagem com o primeiro nome do contato\n",
    "        # e o telefone de contato\n",
    "        \n",
    "        for index in self.contatos.values():\n",
    "            yield 'Oi {}, isso é um teste automatizado'.format(index['Nome'].split(' ')[0]), index['Nome'], index['Celular']\n",
    "\n",
    "\n",
    "    def nova_mensagem(self):\n",
    "        \n",
    "        # Função pesquisa o contato usando o numero na barra de pesquisa\n",
    "        # e envia a mensagem\n",
    "        \n",
    "        for mensagem, nome, numero in self.texto_mensagem():\n",
    "            \n",
    "            BARRA_DE_PESQUISA = \"//*[@id='side']/div[1]/div/label/div/div[2]\"\n",
    "            BOTÃO_ENVIAR = \"//*[@id='main']/footer/div[1]/div[3]\"\n",
    "            DIGITE_SUA_MENSAGEM = \"//*[@id='main']/footer/div[1]/div[2]/div/div[2]\"\n",
    "            BOTÃO_NOVA_MENSAGEM = \"//*[@id='side']/header/div[2]/div/span/div[2]/div/span\"\n",
    "            CAIXA_NOVA_MENSAGEM = \"//*[@id='app']/div/div/div[2]/div[1]/span/div/span/div/div[1]/div/label/div/div[2]\"\n",
    "            PRIMEIRO_CONTATO_PESQUISADO = \"//*[@id='app']/div/div/div[2]/div[1]/span/div/span/div/div[2]/div[1]/div/div/div[2]/div/div/div[2]/div[1]/div/span/span\"\n",
    "            BOTÃO_NOVA_MENSAGEM_VOLTAR = \"//*[@id='app']/div/div/div[2]/div[1]/span/div/span/div/header/div/div[1]/button/span\"\n",
    "            \n",
    "            \n",
    "            pesquisa = self.wd.find_element_by_xpath(BOTÃO_NOVA_MENSAGEM)\n",
    "            pesquisa.click()\n",
    "            \n",
    "            time.sleep(2)\n",
    "            \n",
    "            caixa_nov_msg = self.wd.find_element_by_xpath(CAIXA_NOVA_MENSAGEM)\n",
    "            caixa_nov_msg.send_keys(f\"{numero}\")\n",
    "            \n",
    "            time.sleep(2)\n",
    "            \n",
    "            try:\n",
    "                WebDriverWait(self.wd, 2).until(EC.element_to_be_clickable((By.XPATH, PRIMEIRO_CONTATO_PESQUISADO)))\n",
    "            except:\n",
    "                voltar = self.wd.find_element_by_xpath(BOTÃO_NOVA_MENSAGEM_VOLTAR)\n",
    "                voltar.click()\n",
    "                continue\n",
    "            \n",
    "            time.sleep(2)\n",
    "            \n",
    "            contato = self.wd.find_element_by_xpath(PRIMEIRO_CONTATO_PESQUISADO)\n",
    "            contato.click()\n",
    "            \n",
    "            digite = self.wd.find_element_by_xpath(DIGITE_SUA_MENSAGEM)\n",
    "            digite.send_keys(f\"Olá, esta é uma mensagem automática de um bot que está sendo alimentado por uma tabela com 'Nomes' e 'Numeros', o seu nome é: {nome} e o seu numero de telefone é: {numero}\", Keys.RETURN)            \n",
    "\n",
    "            \n",
    "    class PData:\n",
    "\n",
    "        def __init__(self):\n",
    "            \n",
    "            # Inicia a classe passando o diretório do Bot e \n",
    "            # passa uma lista de extensões de arquivos excel que \n",
    "            # serão filtrados e iterados\n",
    "            \n",
    "            self.pasta_excel = os.listdir(os.path.abspath(''))\n",
    "            self.ext = ['.xlsx', 'xlsm', 'xltx', 'xltm']\n",
    "\n",
    "        def filtrar_arquivo(self):\n",
    "            \n",
    "            # Filtra os arquivos para que seja aceito apenas arquivos excel\n",
    "            \n",
    "            for arquivo in self.pasta_excel:\n",
    "                try:\n",
    "                    if os.path.splitext(arquivo)[1] in self.ext:\n",
    "                        return arquivo\n",
    "                except :\n",
    "                    print('Não foi encontrado arquivo excel nos formatos: {}'.format(self.ext))\n",
    "\n",
    "                \n",
    "        def ache_contatos(self, nom='', cel=''):\n",
    "            \n",
    "            # Dois parametros são utilizados para escolher os headers no excel que \n",
    "            # serão futuramente utilizados no dicionário para o Bot\n",
    "            \n",
    "            df = pandas.read_excel(self.filtrar_arquivo(), header=None, names=[nom, cel], skiprows=1, index_col=None)\n",
    "            df.reset_index(drop=True, inplace=True)\n",
    "            return df.to_dict('index')\n",
    "            "
   ]
  },
  {
   "cell_type": "code",
   "execution_count": 203,
   "id": "legal-reminder",
   "metadata": {},
   "outputs": [
    {
     "name": "stdout",
     "output_type": "stream",
     "text": [
      "{0: {'Nome': 'Guilherme Moraes', 'Celular': '51991920910'}, 1: {'Nome': 'Sirlei', 'Celular': '(51)99761246'}}\n"
     ]
    }
   ],
   "source": [
    "Bot().nova_mensagem()"
   ]
  }
 ],
 "metadata": {
  "kernelspec": {
   "display_name": "Python 3",
   "language": "python",
   "name": "python3"
  },
  "language_info": {
   "codemirror_mode": {
    "name": "ipython",
    "version": 3
   },
   "file_extension": ".py",
   "mimetype": "text/x-python",
   "name": "python",
   "nbconvert_exporter": "python",
   "pygments_lexer": "ipython3",
   "version": "3.9.1"
  }
 },
 "nbformat": 4,
 "nbformat_minor": 5
}
